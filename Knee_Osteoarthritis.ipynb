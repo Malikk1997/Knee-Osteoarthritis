{
  "cells": [
    {
      "cell_type": "markdown",
      "metadata": {
        "id": "view-in-github",
        "colab_type": "text"
      },
      "source": [
        "<a href=\"https://colab.research.google.com/github/Malikk1997/Knee-Osteoarthritis/blob/main/Knee_Osteoarthritis.ipynb\" target=\"_parent\"><img src=\"https://colab.research.google.com/assets/colab-badge.svg\" alt=\"Open In Colab\"/></a>"
      ]
    },
    {
      "cell_type": "code",
      "execution_count": null,
      "metadata": {
        "colab": {
          "base_uri": "https://localhost:8080/"
        },
        "id": "eGwxGfyIzRCC",
        "outputId": "117570a9-0950-48e8-b60a-d55ee10e3130"
      },
      "outputs": [
        {
          "name": "stdout",
          "output_type": "stream",
          "text": [
            "Drive already mounted at /content/drive; to attempt to forcibly remount, call drive.mount(\"/content/drive\", force_remount=True).\n"
          ]
        }
      ],
      "source": [
        "from google.colab import drive\n",
        "drive.mount('/content/drive')\n"
      ]
    },
    {
      "cell_type": "code",
      "execution_count": null,
      "metadata": {
        "colab": {
          "base_uri": "https://localhost:8080/"
        },
        "id": "tDeBL5LQ28V4",
        "outputId": "c8e9e9cc-8bab-4a27-9e64-273a7568a353"
      },
      "outputs": [
        {
          "name": "stdout",
          "output_type": "stream",
          "text": [
            "Files in dataset directory:\n",
            "['1Doubtful', '3Moderate', '2Mild', '4Severe', '0Normal']\n"
          ]
        }
      ],
      "source": [
        "import os\n",
        "\n",
        "# Update this path to the path of your dataset in Google Drive\n",
        "dataset_path = '/content/drive/My Drive/MedicalExpert-I'\n",
        "\n",
        "# List the files in your dataset directory\n",
        "print(\"Files in dataset directory:\")\n",
        "print(os.listdir(dataset_path))\n"
      ]
    },
    {
      "cell_type": "code",
      "execution_count": null,
      "metadata": {
        "colab": {
          "base_uri": "https://localhost:8080/",
          "height": 70
        },
        "id": "3kDEJr0aHl4o",
        "outputId": "e398e8aa-c9d5-46fb-f268-73016ce609e2"
      },
      "outputs": [
        {
          "data": {
            "application/vnd.google.colaboratory.intrinsic+json": {
              "type": "string"
            },
            "text/plain": [
              "'\\nthis code is used for medical expert 2 after we implement the 1st one succuessfully\\nimport os\\n\\n# Update this path to the path of your dataset in Google Drive\\ndataset_path = \\'/content/drive/My Drive/MedicalExpert-II\\'\\n\\n# List the files in your dataset directory\\nprint(\"Files in dataset directory:\")\\nprint(os.listdir(dataset_path)) '"
            ]
          },
          "execution_count": 20,
          "metadata": {},
          "output_type": "execute_result"
        }
      ],
      "source": [
        "'''\n",
        "this code is used for medical expert 2 after we implement the 1st one succuessfully\n",
        "import os\n",
        "\n",
        "# Update this path to the path of your dataset in Google Drive\n",
        "dataset_path = '/content/drive/My Drive/MedicalExpert-II'\n",
        "\n",
        "# List the files in your dataset directory\n",
        "print(\"Files in dataset directory:\")\n",
        "print(os.listdir(dataset_path)) '''"
      ]
    },
    {
      "cell_type": "code",
      "execution_count": null,
      "metadata": {
        "id": "irhEqkUK28tJ"
      },
      "outputs": [],
      "source": [
        "import tensorflow as tf\n",
        "from tensorflow.keras.preprocessing.image import ImageDataGenerator\n",
        "from tensorflow.keras.applications import VGG19\n",
        "from tensorflow.keras import layers, models\n",
        "from tensorflow.keras.optimizers import Adam"
      ]
    },
    {
      "cell_type": "code",
      "execution_count": null,
      "metadata": {
        "colab": {
          "base_uri": "https://localhost:8080/"
        },
        "id": "BtWmbU3U286i",
        "outputId": "e9963c39-9726-4da5-b838-dec8de34b223"
      },
      "outputs": [
        {
          "name": "stdout",
          "output_type": "stream",
          "text": [
            "Found 1650 files belonging to 5 classes.\n",
            "Using 1320 files for training.\n",
            "Found 1650 files belonging to 5 classes.\n",
            "Using 330 files for validation.\n"
          ]
        }
      ],
      "source": [
        "import tensorflow as tf\n",
        "\n",
        "batch_size = 32\n",
        "img_height = 224\n",
        "img_width = 224\n",
        "\n",
        "train_ds = tf.keras.preprocessing.image_dataset_from_directory(\n",
        "  dataset_path,\n",
        "  validation_split=0.2,\n",
        "  subset=\"training\",\n",
        "  seed=123,\n",
        "  image_size=(img_height, img_width),\n",
        "  batch_size=batch_size,\n",
        "  label_mode='categorical'\n",
        ")\n",
        "\n",
        "validation_ds = tf.keras.preprocessing.image_dataset_from_directory(\n",
        "  dataset_path,\n",
        "  validation_split=0.2,\n",
        "  subset=\"validation\",\n",
        "  seed=123,\n",
        "  image_size=(img_height, img_width),\n",
        "  batch_size=batch_size,\n",
        "  label_mode='categorical'\n",
        ")\n"
      ]
    },
    {
      "cell_type": "code",
      "execution_count": null,
      "metadata": {
        "id": "q92pyhwoFGsT"
      },
      "outputs": [],
      "source": [
        "import tensorflow as tf\n",
        "\n",
        "# Assuming train_ds and validation_ds are already defined as shown in your example\n",
        "\n",
        "# Determine the number of validation batches\n",
        "# Note: The cardinality method returns the number of batches in the dataset\n",
        "val_batches = validation_ds.cardinality().numpy()\n",
        "\n",
        "# Calculate the split (in this example, 50% for validation, 50% for testing)\n",
        "val_size = int(val_batches * 0.5)\n",
        "\n",
        "# Split the validation dataset\n",
        "val_ds = validation_ds.take(val_size)\n",
        "test_ds = validation_ds.skip(val_size)\n",
        "\n",
        "# Optionally, you can cache, shuffle, and prefetch the datasets for optimal performance\n",
        "AUTOTUNE = tf.data.AUTOTUNE\n",
        "val_ds = val_ds.cache().prefetch(buffer_size=AUTOTUNE)\n",
        "test_ds = test_ds.cache().prefetch(buffer_size=AUTOTUNE)\n"
      ]
    },
    {
      "cell_type": "code",
      "execution_count": null,
      "metadata": {
        "id": "sskNY4lA289h"
      },
      "outputs": [],
      "source": [
        "AUTOTUNE = tf.data.AUTOTUNE\n",
        "\n",
        "train_ds = train_ds.cache().shuffle(1000).prefetch(buffer_size=AUTOTUNE)\n",
        "\n"
      ]
    },
    {
      "cell_type": "code",
      "execution_count": null,
      "metadata": {
        "id": "rnMq_0oTuhhb"
      },
      "outputs": [],
      "source": []
    },
    {
      "cell_type": "code",
      "execution_count": null,
      "metadata": {
        "colab": {
          "base_uri": "https://localhost:8080/"
        },
        "id": "qeOnIeFYJA2R",
        "outputId": "3f03a967-cde2-45bd-b554-15b57e191095"
      },
      "outputs": [
        {
          "name": "stdout",
          "output_type": "stream",
          "text": [
            "Downloading data from https://storage.googleapis.com/keras-applications/efficientnetb7_notop.h5\n",
            "258076736/258076736 [==============================] - 3s 0us/step\n"
          ]
        }
      ],
      "source": [
        "from tensorflow.keras.applications import EfficientNetB7\n",
        "\n",
        "base_model = EfficientNetB7(include_top=False, weights='imagenet', input_shape=(224, 224, 3))\n",
        "\n",
        "# Freeze the base model to prevent weights from being updated during the first phase of training\n",
        "base_model.trainable = False\n"
      ]
    },
    {
      "cell_type": "code",
      "execution_count": null,
      "metadata": {
        "id": "vAxpGc0JJDGA"
      },
      "outputs": [],
      "source": [
        "from tensorflow.keras import layers, models, regularizers\n",
        "\n",
        "model = models.Sequential([\n",
        "  base_model,\n",
        "  layers.GlobalAveragePooling2D(),\n",
        "  layers.Dense(1024, activation='relu'),\n",
        "  layers.Dropout(0.2),\n",
        "  layers.Dense(5, activation='softmax')\n",
        "  # Assuming 5 categories for severity\n",
        "])\n"
      ]
    },
    {
      "cell_type": "code",
      "execution_count": null,
      "metadata": {
        "id": "oRyPou3XJG60"
      },
      "outputs": [],
      "source": [
        "model.compile(optimizer=tf.keras.optimizers.Adam(),\n",
        "              loss='categorical_crossentropy',\n",
        "              metrics=['accuracy'])\n"
      ]
    },
    {
      "cell_type": "code",
      "execution_count": null,
      "metadata": {
        "colab": {
          "base_uri": "https://localhost:8080/"
        },
        "id": "OhIFf3ukJJXo",
        "outputId": "7e899110-80eb-4cd6-d752-a479b9d11c24"
      },
      "outputs": [
        {
          "name": "stdout",
          "output_type": "stream",
          "text": [
            "Epoch 1/50\n",
            "42/42 [==============================] - 61s 729ms/step - loss: 1.2897 - accuracy: 0.4795 - val_loss: 0.9743 - val_accuracy: 0.6091\n",
            "Epoch 2/50\n",
            "42/42 [==============================] - 20s 472ms/step - loss: 0.9089 - accuracy: 0.6333 - val_loss: 0.8281 - val_accuracy: 0.6515\n",
            "Epoch 3/50\n",
            "42/42 [==============================] - 19s 454ms/step - loss: 0.8091 - accuracy: 0.6856 - val_loss: 0.8068 - val_accuracy: 0.6636\n",
            "Epoch 4/50\n",
            "42/42 [==============================] - 20s 469ms/step - loss: 0.7713 - accuracy: 0.6894 - val_loss: 0.7289 - val_accuracy: 0.7121\n",
            "Epoch 5/50\n",
            "42/42 [==============================] - 19s 456ms/step - loss: 0.6934 - accuracy: 0.7129 - val_loss: 0.8480 - val_accuracy: 0.6576\n",
            "Epoch 6/50\n",
            "42/42 [==============================] - 19s 465ms/step - loss: 0.6586 - accuracy: 0.7379 - val_loss: 0.7053 - val_accuracy: 0.7182\n",
            "Epoch 7/50\n",
            "42/42 [==============================] - 19s 456ms/step - loss: 0.6186 - accuracy: 0.7515 - val_loss: 0.6601 - val_accuracy: 0.7515\n",
            "Epoch 8/50\n",
            "42/42 [==============================] - 19s 455ms/step - loss: 0.5809 - accuracy: 0.7689 - val_loss: 0.6559 - val_accuracy: 0.7364\n",
            "Epoch 9/50\n",
            "42/42 [==============================] - 19s 454ms/step - loss: 0.5725 - accuracy: 0.7682 - val_loss: 0.6922 - val_accuracy: 0.6939\n",
            "Epoch 10/50\n",
            "42/42 [==============================] - 20s 468ms/step - loss: 0.5754 - accuracy: 0.7538 - val_loss: 0.6809 - val_accuracy: 0.7182\n",
            "Epoch 11/50\n",
            "42/42 [==============================] - 19s 456ms/step - loss: 0.5137 - accuracy: 0.7939 - val_loss: 0.6009 - val_accuracy: 0.7758\n",
            "Epoch 12/50\n",
            "42/42 [==============================] - 20s 468ms/step - loss: 0.4689 - accuracy: 0.8189 - val_loss: 0.6251 - val_accuracy: 0.7636\n",
            "Epoch 13/50\n",
            "42/42 [==============================] - 19s 461ms/step - loss: 0.4356 - accuracy: 0.8326 - val_loss: 0.6266 - val_accuracy: 0.7242\n",
            "Epoch 14/50\n",
            "42/42 [==============================] - 20s 470ms/step - loss: 0.4074 - accuracy: 0.8379 - val_loss: 0.6743 - val_accuracy: 0.7303\n",
            "Epoch 15/50\n",
            "42/42 [==============================] - 20s 470ms/step - loss: 0.3943 - accuracy: 0.8348 - val_loss: 0.6002 - val_accuracy: 0.7515\n",
            "Epoch 16/50\n",
            "42/42 [==============================] - 19s 455ms/step - loss: 0.4006 - accuracy: 0.8402 - val_loss: 0.6313 - val_accuracy: 0.7636\n",
            "Epoch 17/50\n",
            "42/42 [==============================] - 19s 455ms/step - loss: 0.3877 - accuracy: 0.8561 - val_loss: 0.5798 - val_accuracy: 0.7667\n",
            "Epoch 18/50\n",
            "42/42 [==============================] - 19s 459ms/step - loss: 0.3571 - accuracy: 0.8682 - val_loss: 0.5813 - val_accuracy: 0.7667\n",
            "Epoch 19/50\n",
            "42/42 [==============================] - 20s 470ms/step - loss: 0.3945 - accuracy: 0.8485 - val_loss: 0.6646 - val_accuracy: 0.7424\n",
            "Epoch 20/50\n",
            "42/42 [==============================] - 19s 454ms/step - loss: 0.3487 - accuracy: 0.8697 - val_loss: 0.5441 - val_accuracy: 0.7970\n",
            "Epoch 21/50\n",
            "42/42 [==============================] - 20s 471ms/step - loss: 0.2943 - accuracy: 0.8955 - val_loss: 0.5135 - val_accuracy: 0.8061\n",
            "Epoch 22/50\n",
            "42/42 [==============================] - 19s 455ms/step - loss: 0.3098 - accuracy: 0.8788 - val_loss: 0.6052 - val_accuracy: 0.7758\n",
            "Epoch 23/50\n",
            "42/42 [==============================] - 19s 457ms/step - loss: 0.3145 - accuracy: 0.8689 - val_loss: 0.6613 - val_accuracy: 0.7909\n",
            "Epoch 24/50\n",
            "42/42 [==============================] - 19s 454ms/step - loss: 0.3017 - accuracy: 0.8811 - val_loss: 0.6016 - val_accuracy: 0.7909\n",
            "Epoch 25/50\n",
            "42/42 [==============================] - 20s 470ms/step - loss: 0.3070 - accuracy: 0.8856 - val_loss: 0.7036 - val_accuracy: 0.7485\n",
            "Epoch 26/50\n",
            "42/42 [==============================] - 19s 456ms/step - loss: 0.2997 - accuracy: 0.8826 - val_loss: 0.5920 - val_accuracy: 0.7970\n",
            "Epoch 27/50\n",
            "42/42 [==============================] - 20s 471ms/step - loss: 0.2546 - accuracy: 0.9023 - val_loss: 0.5739 - val_accuracy: 0.8091\n",
            "Epoch 28/50\n",
            "42/42 [==============================] - 19s 454ms/step - loss: 0.2606 - accuracy: 0.8985 - val_loss: 0.6354 - val_accuracy: 0.7758\n",
            "Epoch 29/50\n",
            "42/42 [==============================] - 19s 456ms/step - loss: 0.2521 - accuracy: 0.9129 - val_loss: 0.6139 - val_accuracy: 0.8000\n",
            "Epoch 30/50\n",
            "42/42 [==============================] - 19s 455ms/step - loss: 0.2270 - accuracy: 0.9106 - val_loss: 0.5862 - val_accuracy: 0.8152\n",
            "Epoch 31/50\n",
            "42/42 [==============================] - 20s 471ms/step - loss: 0.2393 - accuracy: 0.9045 - val_loss: 0.5613 - val_accuracy: 0.7939\n",
            "Epoch 32/50\n",
            "42/42 [==============================] - 19s 453ms/step - loss: 0.2573 - accuracy: 0.9061 - val_loss: 0.6164 - val_accuracy: 0.7939\n",
            "Epoch 33/50\n",
            "42/42 [==============================] - 19s 456ms/step - loss: 0.2194 - accuracy: 0.9250 - val_loss: 0.6113 - val_accuracy: 0.8030\n",
            "Epoch 34/50\n",
            "42/42 [==============================] - 19s 456ms/step - loss: 0.2177 - accuracy: 0.9258 - val_loss: 0.5520 - val_accuracy: 0.8212\n",
            "Epoch 35/50\n",
            "42/42 [==============================] - 19s 455ms/step - loss: 0.2000 - accuracy: 0.9242 - val_loss: 0.6532 - val_accuracy: 0.7970\n",
            "Epoch 36/50\n",
            "42/42 [==============================] - 19s 454ms/step - loss: 0.2093 - accuracy: 0.9273 - val_loss: 0.5652 - val_accuracy: 0.8182\n",
            "Epoch 37/50\n",
            "42/42 [==============================] - 19s 455ms/step - loss: 0.2030 - accuracy: 0.9273 - val_loss: 0.6331 - val_accuracy: 0.7758\n",
            "Epoch 38/50\n",
            "42/42 [==============================] - 19s 455ms/step - loss: 0.1838 - accuracy: 0.9348 - val_loss: 0.6567 - val_accuracy: 0.7848\n",
            "Epoch 39/50\n",
            "42/42 [==============================] - 20s 467ms/step - loss: 0.1781 - accuracy: 0.9432 - val_loss: 0.6819 - val_accuracy: 0.7970\n",
            "Epoch 40/50\n",
            "42/42 [==============================] - 19s 456ms/step - loss: 0.2031 - accuracy: 0.9295 - val_loss: 0.6096 - val_accuracy: 0.8000\n",
            "Epoch 41/50\n",
            "42/42 [==============================] - 20s 473ms/step - loss: 0.2025 - accuracy: 0.9212 - val_loss: 0.5865 - val_accuracy: 0.8182\n",
            "Epoch 42/50\n",
            "42/42 [==============================] - 19s 456ms/step - loss: 0.1926 - accuracy: 0.9220 - val_loss: 0.6148 - val_accuracy: 0.8030\n",
            "Epoch 43/50\n",
            "42/42 [==============================] - 19s 457ms/step - loss: 0.1859 - accuracy: 0.9242 - val_loss: 0.7483 - val_accuracy: 0.7727\n",
            "Epoch 44/50\n",
            "42/42 [==============================] - 19s 460ms/step - loss: 0.1872 - accuracy: 0.9242 - val_loss: 0.5887 - val_accuracy: 0.8030\n",
            "Epoch 45/50\n",
            "42/42 [==============================] - 19s 461ms/step - loss: 0.1624 - accuracy: 0.9462 - val_loss: 0.6201 - val_accuracy: 0.8000\n",
            "Epoch 46/50\n",
            "42/42 [==============================] - 19s 458ms/step - loss: 0.1889 - accuracy: 0.9341 - val_loss: 0.7147 - val_accuracy: 0.7909\n",
            "Epoch 47/50\n",
            "42/42 [==============================] - 19s 460ms/step - loss: 0.1475 - accuracy: 0.9515 - val_loss: 0.6545 - val_accuracy: 0.8121\n",
            "Epoch 48/50\n",
            "42/42 [==============================] - 20s 471ms/step - loss: 0.1742 - accuracy: 0.9318 - val_loss: 0.6345 - val_accuracy: 0.8030\n",
            "Epoch 49/50\n",
            "42/42 [==============================] - 19s 457ms/step - loss: 0.1590 - accuracy: 0.9424 - val_loss: 0.5794 - val_accuracy: 0.8061\n",
            "Epoch 50/50\n",
            "42/42 [==============================] - 20s 472ms/step - loss: 0.1691 - accuracy: 0.9318 - val_loss: 0.6186 - val_accuracy: 0.8000\n"
          ]
        }
      ],
      "source": [
        "epochs = 50  # Adjust based on your dataset size and desired training time\n",
        "\n",
        "history = model.fit(\n",
        "  train_ds,\n",
        "  validation_data=validation_ds,\n",
        "  epochs=epochs\n",
        ")\n"
      ]
    },
    {
      "cell_type": "code",
      "execution_count": null,
      "metadata": {
        "colab": {
          "base_uri": "https://localhost:8080/"
        },
        "id": "hZjtuWlmJOyZ",
        "outputId": "3e94aaee-0ec6-42d6-f946-19245a136899"
      },
      "outputs": [
        {
          "name": "stdout",
          "output_type": "stream",
          "text": [
            "6/6 [==============================] - 3s 304ms/step - loss: 0.5903 - accuracy: 0.8118\n",
            "Test Loss: 0.5903204679489136\n",
            "Test Accuracy: 0.8117647171020508\n"
          ]
        }
      ],
      "source": [
        "# Evaluate the model on the test set\n",
        "test_loss, test_accuracy = model.evaluate(test_ds)\n",
        "\n",
        "print(f\"Test Loss: {test_loss}\")\n",
        "print(f\"Test Accuracy: {test_accuracy}\")\n"
      ]
    },
    {
      "cell_type": "code",
      "execution_count": null,
      "metadata": {
        "id": "EJQF1v_k9l12"
      },
      "outputs": [],
      "source": []
    }
  ],
  "metadata": {
    "accelerator": "GPU",
    "colab": {
      "gpuType": "T4",
      "provenance": [],
      "include_colab_link": true
    },
    "kernelspec": {
      "display_name": "Python 3",
      "name": "python3"
    },
    "language_info": {
      "name": "python"
    }
  },
  "nbformat": 4,
  "nbformat_minor": 0
}